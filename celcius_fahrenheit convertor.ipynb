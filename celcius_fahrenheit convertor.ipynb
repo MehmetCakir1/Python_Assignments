{
 "cells": [
  {
   "cell_type": "code",
   "execution_count": 5,
   "metadata": {},
   "outputs": [
    {
     "name": "stdout",
     "output_type": "stream",
     "text": [
      "42.00 C = 107.60 F\n"
     ]
    }
   ],
   "source": [
    "celcius_degree = float(input(\"Please enter the temperature degree in Celcius: \"))\n",
    "fahreneit_degree = float((celcius_degree* 1.8) + 32)\n",
    "print(\"{:.2f} C = {:.2f} F\".format(celcius_degree,fahreneit_degree))\n"
   ]
  }
 ],
 "metadata": {
  "interpreter": {
   "hash": "0dda09140a1fd88ea879080486bbeb4c81cc74626dc51b563162033e734c6912"
  },
  "kernelspec": {
   "display_name": "Python 3.10.2 64-bit",
   "language": "python",
   "name": "python3"
  },
  "language_info": {
   "codemirror_mode": {
    "name": "ipython",
    "version": 3
   },
   "file_extension": ".py",
   "mimetype": "text/x-python",
   "name": "python",
   "nbconvert_exporter": "python",
   "pygments_lexer": "ipython3",
   "version": "3.10.2"
  },
  "orig_nbformat": 4
 },
 "nbformat": 4,
 "nbformat_minor": 2
}
