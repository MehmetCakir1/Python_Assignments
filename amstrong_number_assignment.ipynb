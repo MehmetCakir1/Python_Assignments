{
 "cells": [
  {
   "cell_type": "code",
   "execution_count": 1,
   "metadata": {},
   "outputs": [
    {
     "name": "stdout",
     "output_type": "stream",
     "text": [
      "453 is not an Amstrong Number\n"
     ]
    }
   ],
   "source": [
    "number = input(\"Please enter a number: \") #github\n",
    "n = len(number)\n",
    "total = 0\n",
    "if (number.find(\".\")== -1) and (number.find(\"-\") == -1) and number.isnumeric():\n",
    "    for i in number:\n",
    "        total = total + int(i)**n\n",
    "    if total == int(number):\n",
    "        print(f\"{number} is an Amstrong Number\")\n",
    "    else:\n",
    "        print(f\"{number} is not an Amstrong Number\")\n",
    "else:\n",
    "    print(\"It is an invalid entry. Don't use non-numeric, float, or negative values!\")"
   ]
  }
 ],
 "metadata": {
  "interpreter": {
   "hash": "0dda09140a1fd88ea879080486bbeb4c81cc74626dc51b563162033e734c6912"
  },
  "kernelspec": {
   "display_name": "Python 3.10.2 64-bit",
   "language": "python",
   "name": "python3"
  },
  "language_info": {
   "codemirror_mode": {
    "name": "ipython",
    "version": 3
   },
   "file_extension": ".py",
   "mimetype": "text/x-python",
   "name": "python",
   "nbconvert_exporter": "python",
   "pygments_lexer": "ipython3",
   "version": "3.10.2"
  },
  "orig_nbformat": 4
 },
 "nbformat": 4,
 "nbformat_minor": 2
}
