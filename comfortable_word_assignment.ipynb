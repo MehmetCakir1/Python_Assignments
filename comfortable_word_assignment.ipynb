{
 "cells": [
  {
   "cell_type": "code",
   "execution_count": 24,
   "metadata": {},
   "outputs": [
    {
     "name": "stdout",
     "output_type": "stream",
     "text": [
      "The word you entered:  magnificient\n",
      "It is a comfortable word.\n"
     ]
    }
   ],
   "source": [
    "left_hand_letters = {\"q\",\"a\",\"z\",\"w\",\"s\",\"x\",\"e\",\"d\",\"c\",\"r\",\"f\",\"v\",\"t\",\"g\",\"b\"}\n",
    "right_hand_letters = {\"y\",\"h\",\"n\",\"u\",\"j\",\"m\",\"ı\",\"k\",\"ö\",\"o\",\"l\",\"ç\",\"p\",\"ş\",\"ğ\",\"i\",\"ü\"}\n",
    "word =input(\"Please enter a word: \").lower()\n",
    "print(\"The word you entered: \",word)\n",
    "word=set(word)\n",
    "if word <= left_hand_letters:\n",
    "    print(\"It is not a comfortable word.\")\n",
    "elif word <=right_hand_letters:\n",
    "    print(\"It is not a comfortable word.\")\n",
    "elif word <= (left_hand_letters.union(right_hand_letters)):\n",
    "    print(\"It is a comfortable word.\")\n",
    "else:\n",
    "    print(\"Please enter a word including only letters from a to z\")"
   ]
  }
 ],
 "metadata": {
  "interpreter": {
   "hash": "0dda09140a1fd88ea879080486bbeb4c81cc74626dc51b563162033e734c6912"
  },
  "kernelspec": {
   "display_name": "Python 3.10.2 64-bit",
   "language": "python",
   "name": "python3"
  },
  "language_info": {
   "codemirror_mode": {
    "name": "ipython",
    "version": 3
   },
   "file_extension": ".py",
   "mimetype": "text/x-python",
   "name": "python",
   "nbconvert_exporter": "python",
   "pygments_lexer": "ipython3",
   "version": "3.10.2"
  },
  "orig_nbformat": 4
 },
 "nbformat": 4,
 "nbformat_minor": 2
}
