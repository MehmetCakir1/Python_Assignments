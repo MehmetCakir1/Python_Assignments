{
 "cells": [
  {
   "cell_type": "code",
   "execution_count": 2,
   "metadata": {},
   "outputs": [
    {
     "name": "stdout",
     "output_type": "stream",
     "text": [
      "There is a risk of death\n"
     ]
    }
   ],
   "source": [
    "age = (input(\"Are you a cigarette addict older than 75 years old? True or False please: \")).title()\n",
    "chronic = (input(\"Do you have a severe chronic disease? True or False please: \")).title()\n",
    "immune = (input(\"Is your immune system too weak? True or False please: \")).title()\n",
    "if age == \"True\":\n",
    "   age = True\n",
    "else:\n",
    "   age = False\n",
    "if chronic == \"True\":\n",
    "   chronic = True\n",
    "else:\n",
    "   chronic = False\n",
    "if immune == \"True\":\n",
    "   immune = True\n",
    "else:\n",
    "   immune = False      \n",
    "risk = (age or chronic or immune)\n",
    "if risk == True:\n",
    "   print (\"There is a risk of death\")\n",
    "else:\n",
    "   print(\"There is not a risk of death\")"
   ]
  }
 ],
 "metadata": {
  "interpreter": {
   "hash": "0dda09140a1fd88ea879080486bbeb4c81cc74626dc51b563162033e734c6912"
  },
  "kernelspec": {
   "display_name": "Python 3.10.2 64-bit",
   "language": "python",
   "name": "python3"
  },
  "language_info": {
   "codemirror_mode": {
    "name": "ipython",
    "version": 3
   },
   "file_extension": ".py",
   "mimetype": "text/x-python",
   "name": "python",
   "nbconvert_exporter": "python",
   "pygments_lexer": "ipython3",
   "version": "3.10.2"
  },
  "orig_nbformat": 4
 },
 "nbformat": 4,
 "nbformat_minor": 2
}
