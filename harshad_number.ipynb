{
 "cells": [
  {
   "cell_type": "code",
   "execution_count": 1,
   "metadata": {},
   "outputs": [
    {
     "name": "stdout",
     "output_type": "stream",
     "text": [
      "47 is not a Harshad number\n"
     ]
    }
   ],
   "source": [
    "num=input(\"Enter a number: \")\n",
    "def harshad(num):\n",
    "    total=0\n",
    "    for i in range(0,len(num)):\n",
    "        total= total + int(num[i])\n",
    "    if int(num)%total==0:\n",
    "        return f\"{num} is a Harshad number\"\n",
    "    else:\n",
    "        return f\"{num} is not a Harshad number\"\n",
    "print(harshad(num))"
   ]
  }
 ],
 "metadata": {
  "interpreter": {
   "hash": "0dda09140a1fd88ea879080486bbeb4c81cc74626dc51b563162033e734c6912"
  },
  "kernelspec": {
   "display_name": "Python 3.10.2 64-bit",
   "language": "python",
   "name": "python3"
  },
  "language_info": {
   "codemirror_mode": {
    "name": "ipython",
    "version": 3
   },
   "file_extension": ".py",
   "mimetype": "text/x-python",
   "name": "python",
   "nbconvert_exporter": "python",
   "pygments_lexer": "ipython3",
   "version": "3.10.2"
  },
  "orig_nbformat": 4
 },
 "nbformat": 4,
 "nbformat_minor": 2
}
