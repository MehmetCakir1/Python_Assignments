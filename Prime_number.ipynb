{
 "cells": [
  {
   "cell_type": "code",
   "execution_count": null,
   "metadata": {},
   "outputs": [],
   "source": [
    "num = int(input(\"Please enter a number: \"))\n",
    "for i in range(2,num):\n",
    "  output = num%i\n",
    "  if output == 0:\n",
    "    print(f\"{num} is not a prime number\")\n",
    "    break\n",
    "else:\n",
    "  print(f\"{num} is a prime number\")"
   ]
  }
 ],
 "metadata": {
  "language_info": {
   "name": "python"
  },
  "orig_nbformat": 4
 },
 "nbformat": 4,
 "nbformat_minor": 2
}
